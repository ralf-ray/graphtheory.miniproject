{
 "cells": [
  {
   "cell_type": "markdown",
   "id": "f1492cb1",
   "metadata": {},
   "source": [
    "# The map creation and best team evalution and pick"
   ]
  },
  {
   "cell_type": "markdown",
   "id": "e0e23643",
   "metadata": {},
   "source": [
    "##  the score calculation and all the 5-people team found by DFS\n",
    "**the vertices and noedes of the graph** ：\n",
    "- the nodes symbolize palyers won the NBA championship from 1959 to 2024, their weights are the numbers of championships they ever won.\n",
    "- the verices between two nodes mean that the connected players ever won as teammates. The weight of each edge is the total champions that the two players won together\n",
    "**evaluation method used to pick up the team** : \n",
    "- the teammates in the 5-player team must has edges between each other(a 5-node subgraph), each players having at least one teammates to build the chemistry.\n",
    "- all the possible 5-player teams will be found out and stored by DFS algorithm\n",
    "- \"The evaluation is based on the total score of each group, calculated as the sum of the five nodes' weights and the weights of the edges between those nodes.\" *score = the sum of nodes' weight+edges'weight*. (equal or more than four edges beacuse that more than four pairs of temmates could occur)"
   ]
  },
  {
   "cell_type": "code",
   "execution_count": null,
   "id": "c9569547",
   "metadata": {},
   "outputs": [],
   "source": [
    "import pandas as pd\n",
    "import networkx as nx\n",
    "import itertools\n",
    "import matplotlib.pyplot as plt\n",
    "import matplotlib\n",
    "import time"
   ]
  },
  {
   "cell_type": "code",
   "execution_count": null,
   "id": "8f7cd8b9",
   "metadata": {},
   "outputs": [],
   "source": [
    "matplotlib.rcParams[\"font.family\"] = \"DejaVu Sans\""
   ]
  },
  {
   "cell_type": "markdown",
   "id": "3766527c",
   "metadata": {},
   "source": [
    "## the data read and prepare part\n",
    "- read and prepare the Dataset from the excel format\n",
    "- assign different labels to the related data for further process\n",
    "- calculated the total championships of each players, attaching the weight to each node"
   ]
  },
  {
   "cell_type": "code",
   "execution_count": null,
   "id": "50cfa8b4",
   "metadata": {},
   "outputs": [],
   "source": [
    "# Read Excel data\n",
    "df = pd.read_excel(\"nba_champions_rosters.xlsx\")\n",
    "print(\"Data Preview:\")\n",
    "print(df.head())"
   ]
  },
  {
   "cell_type": "code",
   "execution_count": null,
   "id": "7c04c24b",
   "metadata": {},
   "outputs": [],
   "source": [
    "# Count the number of championships each player has won (node weight)\n",
    "player_championships = df['Player'].value_counts().to_dict()"
   ]
  },
  {
   "cell_type": "code",
   "execution_count": null,
   "id": "1b9b3b1b",
   "metadata": {},
   "outputs": [],
   "source": [
    "# Construct an undirected graph\n",
    "G = nx.Graph()"
   ]
  },
  {
   "cell_type": "code",
   "execution_count": null,
   "id": "c73517f2",
   "metadata": {},
   "outputs": [],
   "source": [
    "# Add nodes with championship count as the node attribute 'weight'\n",
    "for player, count in player_championships.items():\n",
    "    G.add_node(player, weight=count)"
   ]
  },
  {
   "cell_type": "code",
   "execution_count": null,
   "id": "7c1160c2",
   "metadata": {},
   "outputs": [],
   "source": [
    "# Group data by Season and Team (each group corresponds to a championship team roster)\n",
    "grouped = df.groupby([\"Season\", \"Team\"])"
   ]
  },
  {
   "cell_type": "code",
   "execution_count": null,
   "id": "0ff7c574",
   "metadata": {},
   "outputs": [],
   "source": [
    "# Iterate through each group to retrieve the list of all the edges and their weights \n",
    "for (season, team), group in grouped:\n",
    "    players = group[\"Player\"].tolist()\n",
    "    # Iterate through all unique pairs of players (teammates)\n",
    "    for player1, player2 in itertools.combinations(sorted(players), 2):\n",
    "        if G.has_edge(player1, player2):\n",
    "            G[player1][player2]['weight'] += 1\n",
    "        else:\n",
    "            G.add_edge(player1, player2, weight=1)"
   ]
  },
  {
   "cell_type": "code",
   "execution_count": null,
   "id": "43eaaf59",
   "metadata": {},
   "outputs": [],
   "source": [
    "# Print basic graph information\n",
    "print(\"Number of nodes:\", G.number_of_nodes())\n",
    "print(\"Number of edges:\", G.number_of_edges())"
   ]
  },
  {
   "cell_type": "code",
   "execution_count": null,
   "id": "5b561c79",
   "metadata": {},
   "outputs": [],
   "source": [
    "# Example: Print some nodes and their championship counts\n",
    "for node, data in list(G.nodes(data=True))[:10]:\n",
    "    print(f\"Player: {node}, Championships: {data['weight']}\")"
   ]
  },
  {
   "cell_type": "code",
   "execution_count": null,
   "id": "2a5d7a46",
   "metadata": {
    "lines_to_next_cell": 1
   },
   "outputs": [],
   "source": [
    "# Example: Print some edges and their co-championship counts\n",
    "for u, v, data in list(G.edges(data=True))[:10]:\n",
    "    print(f\"Teammates: {u} - {v}, Co-championship count: {data['weight']}\")"
   ]
  },
  {
   "cell_type": "markdown",
   "id": "9fef7ca2",
   "metadata": {},
   "source": [
    "\n",
    "## Precompute All Unique Simple Paths (of desired length)\n",
    "- In graph-based analysis of player networks, we often want to analyze fixed-size subgroups (like 5-player teams).\n",
    "\n",
    "- Simple paths help to find connected node sequences without revisiting the same node.\n",
    "\n",
    "- By storing sorted node combinations, we treat paths with the same node set (regardless of the order of traversal) as the same group — preventing redundant results.\n",
    "\n",
    "\n",
    "*code logic*: Start a DFS traversal from each node in the graph.\n",
    "\n",
    "At each step, explore neighbors only if they have not been visited in the current path (to maintain simplicity).\n",
    "\n",
    "Once the path reaches the desired length (e.g., 5 nodes):\n",
    "\n",
    "Sort the node list to ensure consistent ordering.\n",
    "\n",
    "Convert the list to a tuple and check if it already exists in the set of unique paths.\n",
    "\n",
    "If it is unique, add the path to the results.\n",
    "\n",
    "Continue until all starting nodes and their possible paths have been explored.\n"
   ]
  },
  {
   "cell_type": "code",
   "execution_count": null,
   "id": "038d2fbd",
   "metadata": {
    "lines_to_next_cell": 1
   },
   "outputs": [],
   "source": [
    "def precompute_unique_paths(G, desired_length=5):\n",
    "    \"\"\"\n",
    "    Precompute all simple paths in graph G of length 'desired_length' (e.g., paths containing exactly 5 nodes)\n",
    "    and ensure that the node combinations (ignoring order) are unique (i.e., if two paths contain the same set \n",
    "    of nodes, only one is kept).\n",
    "    \n",
    "    Parameters:\n",
    "        G: A NetworkX graph object.\n",
    "        desired_length: The desired path length (number of nodes), default is 5.\n",
    "        \n",
    "    Returns:\n",
    "        A list of all unique paths, where each path is a list of nodes.\n",
    "    \"\"\"\n",
    "    all_paths = []\n",
    "    unique_paths = set()  # Stores encountered node combinations (sorted tuples) to avoid duplicates\n",
    "\n",
    "    def dfs(current, path):\n",
    "        if len(path) == desired_length:\n",
    "            # Sort the current path (ignoring order) and convert it to a tuple\n",
    "            sorted_path = tuple(sorted(path))\n",
    "            if sorted_path not in unique_paths:\n",
    "                unique_paths.add(sorted_path)\n",
    "                all_paths.append(path.copy())\n",
    "            return\n",
    "        for neighbor in G.neighbors(current):\n",
    "            if neighbor not in path:  # Ensure a simple path, no repeated nodes\n",
    "                path.append(neighbor)\n",
    "                dfs(neighbor, path)\n",
    "                path.pop()  # Backtrack\n",
    "\n",
    "    # Perform DFS starting from every node in the graph\n",
    "    for node in G.nodes():\n",
    "        dfs(node, [node])\n",
    "    return all_paths"
   ]
  },
  {
   "cell_type": "markdown",
   "id": "57f9736b",
   "metadata": {},
   "source": [
    "## Function to Query Paths by a Specific Node\n",
    "- get all the teams that contain a specific player that we want to build a best team with"
   ]
  },
  {
   "cell_type": "code",
   "execution_count": null,
   "id": "3a4a4efd",
   "metadata": {
    "lines_to_next_cell": 1
   },
   "outputs": [],
   "source": [
    "def query_paths_with_node(path_library, query_node):\n",
    "    \"\"\"\n",
    "    From the precomputed path library, return all paths that include the specified query_node.\n",
    "    \n",
    "    Parameters:\n",
    "        path_library: A list of precomputed paths, with each path as a list of nodes.\n",
    "        query_node: The target node.\n",
    "        \n",
    "    Returns:\n",
    "        A list of paths that include query_node.\n",
    "    \"\"\"\n",
    "    return [path for path in path_library if query_node in path]"
   ]
  },
  {
   "cell_type": "markdown",
   "id": "100b199e",
   "metadata": {},
   "source": [
    "## The program to calculate the socre of a teams and use iterate to find the best team(the highest score)"
   ]
  },
  {
   "cell_type": "code",
   "execution_count": null,
   "id": "8c805c0c",
   "metadata": {
    "lines_to_next_cell": 1
   },
   "outputs": [],
   "source": [
    "def compute_group_score(G, group):\n",
    "    \"\"\"\n",
    "    Compute the total score for the given 5-node group (group):\n",
    "      - The node score is the sum of the weights of all nodes (e.g., the number of championships for each player).\n",
    "      - The edge score is the sum of the weights of the edges between every pair of nodes within the group \n",
    "        (if an edge exists, it represents the co-championship count).\n",
    "    \n",
    "    Returns:\n",
    "        Total score = node score + edge score.\n",
    "    \"\"\"\n",
    "    # Calculate the sum of node weights\n",
    "    node_sum = sum(G.nodes[node].get('weight', 0) for node in group)\n",
    "    \n",
    "    # Calculate the sum of edge weights for every pair of nodes in the group\n",
    "    edge_sum = 0\n",
    "    for u, v in itertools.combinations(group, 2):\n",
    "        if G.has_edge(u, v):\n",
    "            edge_sum += G[u][v].get('weight', 0)\n",
    "    return node_sum + edge_sum"
   ]
  },
  {
   "cell_type": "code",
   "execution_count": null,
   "id": "423724b7",
   "metadata": {
    "lines_to_next_cell": 1
   },
   "outputs": [],
   "source": [
    "def find_max_group(G, groups):\n",
    "    \"\"\"\n",
    "    Among all given 5-node groups in 'groups', compute the total score for each group and\n",
    "    return the group with the highest score along with that score.\n",
    "    \"\"\"\n",
    "    best_score = None\n",
    "    best_group = None\n",
    "    for group in groups:\n",
    "        score = compute_group_score(G, group)\n",
    "        if best_score is None or score > best_score:\n",
    "            best_score = score\n",
    "            best_group = group\n",
    "    return best_group, best_score"
   ]
  },
  {
   "cell_type": "code",
   "execution_count": null,
   "id": "34022fe7",
   "metadata": {},
   "outputs": [],
   "source": [
    "\n",
    "print(\"Precomputing all unique simple paths of length 5...\")\n",
    "start_time = time.time()\n",
    "path_library = precompute_unique_paths(G, desired_length=5)\n",
    "elapsed = time.time() - start_time\n",
    "print(f\"Found {len(path_library)} unique 5-node paths in {elapsed:.2f} seconds.\")"
   ]
  },
  {
   "cell_type": "markdown",
   "id": "52d5cab5",
   "metadata": {},
   "source": [
    "- with an example input \"Tim Duncan\"(pick the best team around Duncan). The score and teammates will be printed."
   ]
  },
  {
   "cell_type": "code",
   "execution_count": null,
   "id": "55dd69b2",
   "metadata": {},
   "outputs": [],
   "source": [
    "# Example: Query all paths that include the node 'Tim Duncan'\n",
    "query_node ='Tim Duncan'\n",
    "paths_with_C = query_paths_with_node(path_library, query_node)\n",
    "print(f\"Paths that include node '{query_node}':\")\n",
    "for path in paths_with_C:\n",
    "    print(path)"
   ]
  },
  {
   "cell_type": "code",
   "execution_count": null,
   "id": "e6e4fe7b",
   "metadata": {},
   "outputs": [],
   "source": [
    "# Compute the score for each path group that includes the query node and find the maximum scoring group\n",
    "best_group, best_score = find_max_group(G, paths_with_C)\n",
    "print(\"Maximum scoring 5-node group with:\", query_node, best_group)\n",
    "print(\"Maximum score with:\", query_node, best_score)"
   ]
  },
  {
   "cell_type": "code",
   "execution_count": null,
   "id": "9b20b3bb",
   "metadata": {},
   "outputs": [],
   "source": [
    "# Also find the maximum scoring group among all groups in the path library\n",
    "best_group, best_score = find_max_group(G, path_library)\n",
    "print(\"Maximum scoring 5-node group:\", best_group)\n",
    "print(\"Maximum score:\", best_score)"
   ]
  },
  {
   "cell_type": "markdown",
   "id": "076a3d14",
   "metadata": {},
   "source": [
    "- the output exmaple when I want to build a best team with Tim Duncan"
   ]
  },
  {
   "cell_type": "code",
   "execution_count": null,
   "id": "298c81f8",
   "metadata": {},
   "outputs": [],
   "source": [
    "#an example output\n",
    "#Maximum scoring 5-node group with: Tim Duncan ['Scottie Pippen', 'Horace Grant', 'Michael Jordan', 'Will Perdue', 'Tim Duncan']\n",
    "#Maximum score with: Tim Duncan 67\n",
    "#Maximum scoring 5-node group: ['Sam Jones', 'Bill Russell', 'K.C. Jones', 'Tom Heinsohn', 'Tom Sanders']\n",
    "#Maximum score: 117"
   ]
  },
  {
   "cell_type": "code",
   "execution_count": null,
   "id": "0f51ad96",
   "metadata": {},
   "outputs": [],
   "source": []
  }
 ],
 "metadata": {
  "jupytext": {
   "cell_metadata_filter": "-all",
   "main_language": "python",
   "notebook_metadata_filter": "-all"
  },
  "language_info": {
   "name": "python"
  }
 },
 "nbformat": 4,
 "nbformat_minor": 5
}
