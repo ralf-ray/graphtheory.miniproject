{
 "cells": [
  {
   "cell_type": "code",
   "execution_count": 2,
   "id": "6960cecd",
   "metadata": {},
   "outputs": [],
   "source": [
    "import requests\n",
    "from bs4 import BeautifulSoup\n",
    "import json\n",
    "import pandas as pd\n",
    "import time\n",
    "import random\n",
    "import os"
   ]
  },
  {
   "cell_type": "markdown",
   "id": "adf63bd0",
   "metadata": {},
   "source": [
    "# The data collection and sort program"
   ]
  },
  {
   "cell_type": "markdown",
   "id": "7bdfd9bd",
   "metadata": {},
   "source": [
    "## the url manufacture part"
   ]
  },
  {
   "cell_type": "markdown",
   "id": "377ff46c",
   "metadata": {},
   "source": [
    "*preparation of the url*\n",
    "\n",
    "- This design enables the automated generation of URLs to retrieve team-specific data by simply substituting the team abbreviation into a base URL pattern (e.g., https://www.basketball-reference.com/teams/{abbr}/{year}.html).\n",
    "\n",
    "- Using a dictionary allows for fast, readable, and flexible lookups — crucial when processing many seasons across multiple teams."
   ]
  },
  {
   "cell_type": "code",
   "execution_count": 3,
   "id": "1366daff",
   "metadata": {
    "lines_to_next_cell": 1
   },
   "outputs": [],
   "source": [
    "# Team abbreviation mapping (some teams may require manual addition)\n",
    "\n",
    "# ------------------------------\n",
    "# Define mapping between full team names and their basketball-reference abbreviations\n",
    "# ------------------------------\n",
    "# This dictionary allows us to convert a team name (e.g., \"Boston Celtics\") into the correct URL abbreviation (\"BOS\"). For that the whole url is needed to download the data of corresponding team, the abbreviations are put into the prepared url struture to get the url\n",
    "# Note: Some historical ABA teams are set to None and require manual handling to get the information from the website of basketreference.com.\n",
    "team_abbr_map = {\n",
    "    \"Boston Celtics\": \"BOS\",\n",
    "    \"Denver Nuggets\": \"DEN\",\n",
    "    \"Golden State Warriors\": \"GSW\",\n",
    "    \"Milwaukee Bucks\": \"MIL\",\n",
    "    \"Los Angeles Lakers\": \"LAL\",\n",
    "    \"Toronto Raptors\": \"TOR\",\n",
    "    \"Cleveland Cavaliers\": \"CLE\",\n",
    "    \"San Antonio Spurs\": \"SAS\",\n",
    "    \"Miami Heat\": \"MIA\",\n",
    "    \"Chicago Bulls\": \"CHI\",\n",
    "    \"Philadelphia 76ers\": \"PHI\",\n",
    "    \"New York Knicks\": \"NYK\",\n",
    "    \"Houston Rockets\": \"HOU\",\n",
    "    \"Seattle SuperSonics\": \"SEA\",  # Historically used; currently OKC Thunder, but historical data uses SEA\n",
    "    \"Washington Bullets\": \"WSB\",   # Later changed to WAS\n",
    "    \"Portland Trail Blazers\": \"POR\",\n",
    "    \"Utah Stars\": None,            # ABA team, requires manual handling\n",
    "    \"Indiana Pacers\": \"IND\",\n",
    "    \"Oakland Oaks\": None,          # ABA team\n",
    "    \"Pittsburgh Pipers\": None,     # ABA team\n",
    "    \"Kentucky Colonels\": None,\n",
    "    # ...\n",
    "}"
   ]
  },
  {
   "cell_type": "markdown",
   "id": "8571b726",
   "metadata": {},
   "source": [
    "## Format the data"
   ]
  },
  {
   "cell_type": "markdown",
   "id": "ee40128b",
   "metadata": {},
   "source": [
    "*Data Normalization and Storage*\n",
    "\n",
    "- Cleaned and standardized the data: converted season strings like '1999-00' to 2000, mapped team names to their official abbreviations (e.g., \"Boston Celtics\" → \"BOS\").\n",
    "\n",
    "- Stored the result in a structured DataFrame and exported it to nba_champions_rosters.xlsx for reuse and analysis."
   ]
  },
  {
   "cell_type": "code",
   "execution_count": 4,
   "id": "a1ea6a94",
   "metadata": {
    "lines_to_next_cell": 1
   },
   "outputs": [],
   "source": [
    "# ------------------------------\n",
    "# Convert season format (e.g., \"2022-23\") to the actual ending year (e.g., 2023)\n",
    "# To ensure that the label of years corresponds to the actual data\n",
    "# ------------------------------\n",
    "\n",
    "\n",
    "def get_year_from_season(season_str):\n",
    "    \"\"\"\n",
    "    Convert a season string to its ending year.\n",
    "    For example:\n",
    "      '2022-23' -> 2023\n",
    "      '2023-24' -> 2024\n",
    "      '1999-00' -> 2000\n",
    "    For cases like 'Dec-11', returns None (manual handling required).\n",
    "    \"\"\"\n",
    "    parts = season_str.split('-')\n",
    "    if len(parts) != 2:\n",
    "        return None\n",
    "    try:\n",
    "        end_year = int(parts[1])\n",
    "        if end_year < 50:\n",
    "            end_year += 2000\n",
    "        else:\n",
    "            end_year += 1900\n",
    "        return end_year\n",
    "    except Exception as e:\n",
    "        print(f\"Error parsing season {season_str}: {e}\")\n",
    "        return None"
   ]
  },
  {
   "cell_type": "markdown",
   "id": "9dc886a6",
   "metadata": {},
   "source": [
    "## Data collection programm"
   ]
  },
  {
   "cell_type": "markdown",
   "id": "f18d77ed",
   "metadata": {},
   "source": [
    "- This function is designed to retrieve the full player roster for a specific NBA team in a given season from basketball-reference.com.\n",
    "Its goal is to be robust, polite, and adaptable to changes in web page structures."
   ]
  },
  {
   "cell_type": "code",
   "execution_count": 5,
   "id": "505f5933",
   "metadata": {
    "lines_to_next_cell": 1
   },
   "outputs": [],
   "source": [
    "def fetch_roster(team_abbr, year, session):\n",
    "    \"\"\"\n",
    "    Attempt to fetch the roster for the specified team and season from Basketball-Reference.\n",
    "    First, try to parse the JSON-LD data; if that fails, try to parse the roster table from HTML.\n",
    "    \"\"\"\n",
    "    url = f\"https://www.basketball-reference.com/teams/{team_abbr}/{year}.html\"\n",
    "    print(f\"\\nFetching roster from: {url}\")\n",
    "    headers = {\n",
    "        \"User-Agent\": \"Mozilla/5.0 (Windows NT 10.0; Win64; x64) AppleWebKit/537.36 (KHTML, like Gecko) Chrome/114.0.0.0 Safari/537.36\"\n",
    "    }\n",
    "    # use headers to mimic a common users, avoiding being blocked as a crawler\n",
    "    try:\n",
    "        response = session.get(url, headers=headers, timeout=10)\n",
    "    except Exception as e:\n",
    "        print(\"Request error:\", e)\n",
    "        return []\n",
    "    # Sleep randomly for 2-4 seconds to reduce request frequency\n",
    "    time.sleep(random.uniform(2, 4))\n",
    "    if response.status_code != 200:\n",
    "        print(f\"Unable to access URL, status code: {response.status_code}\")\n",
    "        return []\n",
    "    #set a sleep time in case that the high-frequency access is detected\n",
    "    soup = BeautifulSoup(response.text, \"html.parser\")\n",
    "    #This line creates a BeautifulSoup object, which is a structured parser used to process and navigate the HTML content of a webpage.\n",
    "    \n",
    "    # 1. First, try to parse the JSON-LD data\n",
    "    scripts = soup.find_all(\"script\", type=\"application/ld+json\")\n",
    "    for script in scripts:\n",
    "        try:\n",
    "            data = json.loads(script.string)\n",
    "            # If data is a dictionary and its @type is SportsTeam, attempt to extract the roster\n",
    "            if isinstance(data, dict) and data.get(\"@type\") == \"SportsTeam\":\n",
    "                athletes = data.get(\"athlete\", [])\n",
    "                if isinstance(athletes, list) and athletes:\n",
    "                    players = [athlete.get(\"name\") for athlete in athletes if athlete.get(\"name\")]\n",
    "                    if players:\n",
    "                        print(\"Roster obtained via JSON-LD.\")\n",
    "                        return players\n",
    "        except json.JSONDecodeError as e:\n",
    "            print(\"JSON decoding error:\", e)\n",
    "    \n",
    "    # 2. If JSON-LD extraction fails, try parsing the HTML roster table\n",
    "    roster_table = soup.find(\"table\", {\"id\": \"roster\"})\n",
    "    if not roster_table:\n",
    "        print(\"Roster table not found.\")\n",
    "        return []\n",
    "    \n",
    "    players = []\n",
    "    tbody = roster_table.find(\"tbody\")\n",
    "    for row in tbody.find_all(\"tr\"):\n",
    "        player_cell = row.find(\"th\", {\"data-stat\": \"player\"})\n",
    "        if player_cell:\n",
    "            player_name = player_cell.get_text(strip=True)\n",
    "            players.append(player_name)\n",
    "    if players:\n",
    "        print(\"Roster obtained via HTML table.\")\n",
    "    return players"
   ]
  },
  {
   "cell_type": "code",
   "execution_count": 6,
   "id": "44c50287",
   "metadata": {},
   "outputs": [],
   "source": [
    "# Create a Session object to persist HTTP connections\n",
    "session = requests.Session()"
   ]
  },
  {
   "cell_type": "markdown",
   "id": "32f08042",
   "metadata": {},
   "source": [
    "The list below is used to set the range for the crawler program"
   ]
  },
  {
   "cell_type": "code",
   "execution_count": 7,
   "id": "8aabfd29",
   "metadata": {},
   "outputs": [],
   "source": [
    "# Example: Season-Team mapping\n",
    "seasons_teams = [\n",
    "    (\"2023-24\", \"Boston Celtics\"),\n",
    "    (\"2022-23\", \"Denver Nuggets\"),\n",
    "    (\"2021-22\", \"Golden State Warriors\"),\n",
    "    (\"2020-21\", \"Milwaukee Bucks\"),\n",
    "    (\"2019-20\", \"Los Angeles Lakers\"),\n",
    "    (\"2018-19\", \"Toronto Raptors\"),\n",
    "    (\"2017-18\", \"Golden State Warriors\"),\n",
    "    (\"2016-17\", \"Golden State Warriors\"),\n",
    "    (\"2015-16\", \"Cleveland Cavaliers\"),\n",
    "    (\"2014-15\", \"Golden State Warriors\"),\n",
    "    (\"2013-14\", \"San Antonio Spurs\"),\n",
    "    (\"2012-13\", \"Miami Heat\"),\n",
    "    (\"Dec-11\", \"Miami Heat\"),\n",
    "    (\"Nov-10\", \"Dallas Mavericks\"),\n",
    "    (\"Oct-09\", \"Los Angeles Lakers\"),\n",
    "    (\"Sep-08\", \"Los Angeles Lakers\"),\n",
    "    (\"Aug-07\", \"Boston Celtics\"),\n",
    "    (\"Jul-06\", \"San Antonio Spurs\"),\n",
    "    (\"Jun-05\", \"Miami Heat\"),\n",
    "    (\"May-04\", \"San Antonio Spurs\"),\n",
    "    (\"Apr-03\", \"Detroit Pistons\"),\n",
    "    (\"Mar-02\", \"San Antonio Spurs\"),\n",
    "    (\"Feb-01\", \"Los Angeles Lakers\"),\n",
    "    (\"Jan-00\", \"Los Angeles Lakers\"),\n",
    "    (\"1999-00\", \"Los Angeles Lakers\"),\n",
    "    (\"1998-99\", \"San Antonio Spurs\"),\n",
    "    (\"1997-98\", \"Chicago Bulls\"),\n",
    "    (\"1996-97\", \"Chicago Bulls\"),\n",
    "    (\"1995-96\", \"Chicago Bulls\"),\n",
    "    (\"1994-95\", \"Houston Rockets\"),\n",
    "    (\"1993-94\", \"Houston Rockets\"),\n",
    "    (\"1992-93\", \"Chicago Bulls\"),\n",
    "    (\"1991-92\", \"Chicago Bulls\"),\n",
    "    (\"1990-91\", \"Chicago Bulls\"),\n",
    "    (\"1989-90\", \"Chicago Bulls\"),\n",
    "    (\"1988-89\", \"Chicago Bulls\"),\n",
    "    (\"1987-88\", \"Los Angeles Lakers\"),\n",
    "    (\"1986-87\", \"Los Angeles Lakers\"),\n",
    "    (\"1985-86\", \"Boston Celtics\"),\n",
    "    (\"1984-85\", \"Los Angeles Lakers\"),\n",
    "    (\"1983-84\", \"Boston Celtics\"),\n",
    "    (\"1982-83\", \"Philadelphia 76ers\"),\n",
    "    (\"1981-82\", \"Los Angeles Lakers\"),\n",
    "    (\"1980-81\", \"Boston Celtics\"),\n",
    "    (\"1979-80\", \"Los Angeles Lakers\"),\n",
    "    (\"1978-79\", \"Seattle SuperSonics\"),\n",
    "    (\"1977-78\", \"Washington Bullets\"),\n",
    "    (\"1976-77\", \"Portland Trail Blazers\"),\n",
    "    (\"1975-76\", \"Boston Celtics\"),\n",
    "    (\"1975-76\", \"New York Nets\"),\n",
    "    (\"1974-75\", \"Golden State Warriors\"),\n",
    "    (\"1974-75\", \"Kentucky Colonels\"),\n",
    "    (\"1973-74\", \"Boston Celtics\"),\n",
    "    (\"1973-74\", \"New York Nets\"),\n",
    "    (\"1972-73\", \"New York Knicks\"),\n",
    "    (\"1972-73\", \"Indiana Pacers\"),\n",
    "    (\"1971-72\", \"Los Angeles Lakers\"),\n",
    "    (\"1971-72\", \"Indiana Pacers\"),\n",
    "    (\"1970-71\", \"Milwaukee Bucks\"),\n",
    "    (\"1970-71\", \"Utah Stars\"),\n",
    "    (\"1969-70\", \"New York Knicks\"),\n",
    "    (\"1969-70\", \"Indiana Pacers\"),\n",
    "    (\"1968-69\", \"Boston Celtics\"),\n",
    "    (\"1968-69\", \"Oakland Oaks\"),\n",
    "    (\"1967-68\", \"Boston Celtics\"),\n",
    "    (\"1967-68\", \"Pittsburgh Pipers\"),\n",
    "    (\"1966-67\", \"Philadelphia 76ers\"),\n",
    "    (\"1965-66\", \"Boston Celtics\"),\n",
    "    (\"1964-65\", \"Boston Celtics\"),\n",
    "    (\"1963-64\", \"Boston Celtics\"),\n",
    "    (\"1962-63\", \"Boston Celtics\"),\n",
    "    (\"1961-62\", \"Boston Celtics\"),\n",
    "    (\"1960-61\", \"Boston Celtics\"),\n",
    "    (\"1959-60\", \"Boston Celtics\"),\n",
    "    (\"1958-59\", \"Boston Celtics\"),\n",
    "    (\"1957-58\", \"St. Louis Hawks\")\n",
    "]"
   ]
  },
  {
   "cell_type": "markdown",
   "id": "50db3bfd",
   "metadata": {},
   "source": [
    "## the main crawler program to collect the data"
   ]
  },
  {
   "cell_type": "markdown",
   "id": "489392d4",
   "metadata": {},
   "source": [
    "**the iterating over all season-team pairs, fetching each team's player roster for that season, and collecting the results in a structured format.**\n",
    "- the fetch function is used here to collect the data from the web\n",
    "- The data will be sort in certain forms and be stored in the storage space"
   ]
  },
  {
   "cell_type": "code",
   "execution_count": 8,
   "id": "1e2227f0",
   "metadata": {},
   "outputs": [
    {
     "name": "stdout",
     "output_type": "stream",
     "text": [
      "\n",
      "Fetching roster from: https://www.basketball-reference.com/teams/BOS/2024.html\n",
      "Roster obtained via JSON-LD.\n",
      "\n",
      "Fetching roster from: https://www.basketball-reference.com/teams/DEN/2023.html\n",
      "Roster obtained via JSON-LD.\n",
      "\n",
      "Fetching roster from: https://www.basketball-reference.com/teams/GSW/2022.html\n",
      "Roster obtained via JSON-LD.\n",
      "\n",
      "Fetching roster from: https://www.basketball-reference.com/teams/MIL/2021.html\n"
     ]
    },
    {
     "ename": "KeyboardInterrupt",
     "evalue": "",
     "output_type": "error",
     "traceback": [
      "\u001b[1;31m---------------------------------------------------------------------------\u001b[0m",
      "\u001b[1;31mKeyboardInterrupt\u001b[0m                         Traceback (most recent call last)",
      "Cell \u001b[1;32mIn[8], line 11\u001b[0m\n\u001b[0;32m      9\u001b[0m     \u001b[38;5;28mprint\u001b[39m(\u001b[38;5;124mf\u001b[39m\u001b[38;5;124m\"\u001b[39m\u001b[38;5;124mTeam \u001b[39m\u001b[38;5;132;01m{\u001b[39;00mteam_name\u001b[38;5;132;01m}\u001b[39;00m\u001b[38;5;124m is missing an abbreviation mapping; manual handling is required.\u001b[39m\u001b[38;5;124m\"\u001b[39m)\n\u001b[0;32m     10\u001b[0m     \u001b[38;5;28;01mcontinue\u001b[39;00m\n\u001b[1;32m---> 11\u001b[0m players \u001b[38;5;241m=\u001b[39m \u001b[43mfetch_roster\u001b[49m\u001b[43m(\u001b[49m\u001b[43mteam_abbr\u001b[49m\u001b[43m,\u001b[49m\u001b[43m \u001b[49m\u001b[43mend_year\u001b[49m\u001b[43m,\u001b[49m\u001b[43m \u001b[49m\u001b[43msession\u001b[49m\u001b[43m)\u001b[49m\n\u001b[0;32m     12\u001b[0m \u001b[38;5;28;01mif\u001b[39;00m \u001b[38;5;129;01mnot\u001b[39;00m players:\n\u001b[0;32m     13\u001b[0m     \u001b[38;5;28mprint\u001b[39m(\u001b[38;5;124mf\u001b[39m\u001b[38;5;124m\"\u001b[39m\u001b[38;5;124mNo roster fetched for \u001b[39m\u001b[38;5;132;01m{\u001b[39;00mteam_name\u001b[38;5;132;01m}\u001b[39;00m\u001b[38;5;124m \u001b[39m\u001b[38;5;132;01m{\u001b[39;00mseason_str\u001b[38;5;132;01m}\u001b[39;00m\u001b[38;5;124m.\u001b[39m\u001b[38;5;124m\"\u001b[39m)\n",
      "Cell \u001b[1;32mIn[5], line 13\u001b[0m, in \u001b[0;36mfetch_roster\u001b[1;34m(team_abbr, year, session)\u001b[0m\n\u001b[0;32m     11\u001b[0m \u001b[38;5;66;03m# use headers to mimic a common users, avoiding being blocked as a crawler\u001b[39;00m\n\u001b[0;32m     12\u001b[0m \u001b[38;5;28;01mtry\u001b[39;00m:\n\u001b[1;32m---> 13\u001b[0m     response \u001b[38;5;241m=\u001b[39m \u001b[43msession\u001b[49m\u001b[38;5;241;43m.\u001b[39;49m\u001b[43mget\u001b[49m\u001b[43m(\u001b[49m\u001b[43murl\u001b[49m\u001b[43m,\u001b[49m\u001b[43m \u001b[49m\u001b[43mheaders\u001b[49m\u001b[38;5;241;43m=\u001b[39;49m\u001b[43mheaders\u001b[49m\u001b[43m,\u001b[49m\u001b[43m \u001b[49m\u001b[43mtimeout\u001b[49m\u001b[38;5;241;43m=\u001b[39;49m\u001b[38;5;241;43m10\u001b[39;49m\u001b[43m)\u001b[49m\n\u001b[0;32m     14\u001b[0m \u001b[38;5;28;01mexcept\u001b[39;00m \u001b[38;5;167;01mException\u001b[39;00m \u001b[38;5;28;01mas\u001b[39;00m e:\n\u001b[0;32m     15\u001b[0m     \u001b[38;5;28mprint\u001b[39m(\u001b[38;5;124m\"\u001b[39m\u001b[38;5;124mRequest error:\u001b[39m\u001b[38;5;124m\"\u001b[39m, e)\n",
      "File \u001b[1;32mc:\\Users\\19775\\AppData\\Local\\Programs\\Python\\Python310\\lib\\site-packages\\requests\\sessions.py:602\u001b[0m, in \u001b[0;36mSession.get\u001b[1;34m(self, url, **kwargs)\u001b[0m\n\u001b[0;32m    594\u001b[0m \u001b[38;5;250m\u001b[39m\u001b[38;5;124mr\u001b[39m\u001b[38;5;124;03m\"\"\"Sends a GET request. Returns :class:`Response` object.\u001b[39;00m\n\u001b[0;32m    595\u001b[0m \n\u001b[0;32m    596\u001b[0m \u001b[38;5;124;03m:param url: URL for the new :class:`Request` object.\u001b[39;00m\n\u001b[0;32m    597\u001b[0m \u001b[38;5;124;03m:param \\*\\*kwargs: Optional arguments that ``request`` takes.\u001b[39;00m\n\u001b[0;32m    598\u001b[0m \u001b[38;5;124;03m:rtype: requests.Response\u001b[39;00m\n\u001b[0;32m    599\u001b[0m \u001b[38;5;124;03m\"\"\"\u001b[39;00m\n\u001b[0;32m    601\u001b[0m kwargs\u001b[38;5;241m.\u001b[39msetdefault(\u001b[38;5;124m\"\u001b[39m\u001b[38;5;124mallow_redirects\u001b[39m\u001b[38;5;124m\"\u001b[39m, \u001b[38;5;28;01mTrue\u001b[39;00m)\n\u001b[1;32m--> 602\u001b[0m \u001b[38;5;28;01mreturn\u001b[39;00m \u001b[38;5;28mself\u001b[39m\u001b[38;5;241m.\u001b[39mrequest(\u001b[38;5;124m\"\u001b[39m\u001b[38;5;124mGET\u001b[39m\u001b[38;5;124m\"\u001b[39m, url, \u001b[38;5;241m*\u001b[39m\u001b[38;5;241m*\u001b[39mkwargs)\n",
      "File \u001b[1;32mc:\\Users\\19775\\AppData\\Local\\Programs\\Python\\Python310\\lib\\site-packages\\requests\\sessions.py:589\u001b[0m, in \u001b[0;36mSession.request\u001b[1;34m(self, method, url, params, data, headers, cookies, files, auth, timeout, allow_redirects, proxies, hooks, stream, verify, cert, json)\u001b[0m\n\u001b[0;32m    584\u001b[0m send_kwargs \u001b[38;5;241m=\u001b[39m {\n\u001b[0;32m    585\u001b[0m     \u001b[38;5;124m\"\u001b[39m\u001b[38;5;124mtimeout\u001b[39m\u001b[38;5;124m\"\u001b[39m: timeout,\n\u001b[0;32m    586\u001b[0m     \u001b[38;5;124m\"\u001b[39m\u001b[38;5;124mallow_redirects\u001b[39m\u001b[38;5;124m\"\u001b[39m: allow_redirects,\n\u001b[0;32m    587\u001b[0m }\n\u001b[0;32m    588\u001b[0m send_kwargs\u001b[38;5;241m.\u001b[39mupdate(settings)\n\u001b[1;32m--> 589\u001b[0m resp \u001b[38;5;241m=\u001b[39m \u001b[38;5;28mself\u001b[39m\u001b[38;5;241m.\u001b[39msend(prep, \u001b[38;5;241m*\u001b[39m\u001b[38;5;241m*\u001b[39msend_kwargs)\n\u001b[0;32m    591\u001b[0m \u001b[38;5;28;01mreturn\u001b[39;00m resp\n",
      "File \u001b[1;32mc:\\Users\\19775\\AppData\\Local\\Programs\\Python\\Python310\\lib\\site-packages\\requests\\sessions.py:747\u001b[0m, in \u001b[0;36mSession.send\u001b[1;34m(self, request, **kwargs)\u001b[0m\n\u001b[0;32m    744\u001b[0m         \u001b[38;5;28;01mpass\u001b[39;00m\n\u001b[0;32m    746\u001b[0m \u001b[38;5;28;01mif\u001b[39;00m \u001b[38;5;129;01mnot\u001b[39;00m stream:\n\u001b[1;32m--> 747\u001b[0m     \u001b[43mr\u001b[49m\u001b[38;5;241;43m.\u001b[39;49m\u001b[43mcontent\u001b[49m\n\u001b[0;32m    749\u001b[0m \u001b[38;5;28;01mreturn\u001b[39;00m r\n",
      "File \u001b[1;32mc:\\Users\\19775\\AppData\\Local\\Programs\\Python\\Python310\\lib\\site-packages\\requests\\models.py:899\u001b[0m, in \u001b[0;36mResponse.content\u001b[1;34m(self)\u001b[0m\n\u001b[0;32m    897\u001b[0m         \u001b[38;5;28mself\u001b[39m\u001b[38;5;241m.\u001b[39m_content \u001b[38;5;241m=\u001b[39m \u001b[38;5;28;01mNone\u001b[39;00m\n\u001b[0;32m    898\u001b[0m     \u001b[38;5;28;01melse\u001b[39;00m:\n\u001b[1;32m--> 899\u001b[0m         \u001b[38;5;28mself\u001b[39m\u001b[38;5;241m.\u001b[39m_content \u001b[38;5;241m=\u001b[39m \u001b[38;5;124;43mb\u001b[39;49m\u001b[38;5;124;43m\"\u001b[39;49m\u001b[38;5;124;43m\"\u001b[39;49m\u001b[38;5;241;43m.\u001b[39;49m\u001b[43mjoin\u001b[49m\u001b[43m(\u001b[49m\u001b[38;5;28;43mself\u001b[39;49m\u001b[38;5;241;43m.\u001b[39;49m\u001b[43miter_content\u001b[49m\u001b[43m(\u001b[49m\u001b[43mCONTENT_CHUNK_SIZE\u001b[49m\u001b[43m)\u001b[49m\u001b[43m)\u001b[49m \u001b[38;5;129;01mor\u001b[39;00m \u001b[38;5;124mb\u001b[39m\u001b[38;5;124m\"\u001b[39m\u001b[38;5;124m\"\u001b[39m\n\u001b[0;32m    901\u001b[0m \u001b[38;5;28mself\u001b[39m\u001b[38;5;241m.\u001b[39m_content_consumed \u001b[38;5;241m=\u001b[39m \u001b[38;5;28;01mTrue\u001b[39;00m\n\u001b[0;32m    902\u001b[0m \u001b[38;5;66;03m# don't need to release the connection; that's been handled by urllib3\u001b[39;00m\n\u001b[0;32m    903\u001b[0m \u001b[38;5;66;03m# since we exhausted the data.\u001b[39;00m\n",
      "File \u001b[1;32mc:\\Users\\19775\\AppData\\Local\\Programs\\Python\\Python310\\lib\\site-packages\\requests\\models.py:816\u001b[0m, in \u001b[0;36mResponse.iter_content.<locals>.generate\u001b[1;34m()\u001b[0m\n\u001b[0;32m    814\u001b[0m \u001b[38;5;28;01mif\u001b[39;00m \u001b[38;5;28mhasattr\u001b[39m(\u001b[38;5;28mself\u001b[39m\u001b[38;5;241m.\u001b[39mraw, \u001b[38;5;124m\"\u001b[39m\u001b[38;5;124mstream\u001b[39m\u001b[38;5;124m\"\u001b[39m):\n\u001b[0;32m    815\u001b[0m     \u001b[38;5;28;01mtry\u001b[39;00m:\n\u001b[1;32m--> 816\u001b[0m         \u001b[38;5;28;01myield from\u001b[39;00m \u001b[38;5;28mself\u001b[39m\u001b[38;5;241m.\u001b[39mraw\u001b[38;5;241m.\u001b[39mstream(chunk_size, decode_content\u001b[38;5;241m=\u001b[39m\u001b[38;5;28;01mTrue\u001b[39;00m)\n\u001b[0;32m    817\u001b[0m     \u001b[38;5;28;01mexcept\u001b[39;00m ProtocolError \u001b[38;5;28;01mas\u001b[39;00m e:\n\u001b[0;32m    818\u001b[0m         \u001b[38;5;28;01mraise\u001b[39;00m ChunkedEncodingError(e)\n",
      "File \u001b[1;32mc:\\Users\\19775\\AppData\\Local\\Programs\\Python\\Python310\\lib\\site-packages\\urllib3\\response.py:624\u001b[0m, in \u001b[0;36mHTTPResponse.stream\u001b[1;34m(self, amt, decode_content)\u001b[0m\n\u001b[0;32m    608\u001b[0m \u001b[38;5;250m\u001b[39m\u001b[38;5;124;03m\"\"\"\u001b[39;00m\n\u001b[0;32m    609\u001b[0m \u001b[38;5;124;03mA generator wrapper for the read() method. A call will block until\u001b[39;00m\n\u001b[0;32m    610\u001b[0m \u001b[38;5;124;03m``amt`` bytes have been read from the connection or until the\u001b[39;00m\n\u001b[1;32m   (...)\u001b[0m\n\u001b[0;32m    621\u001b[0m \u001b[38;5;124;03m    'content-encoding' header.\u001b[39;00m\n\u001b[0;32m    622\u001b[0m \u001b[38;5;124;03m\"\"\"\u001b[39;00m\n\u001b[0;32m    623\u001b[0m \u001b[38;5;28;01mif\u001b[39;00m \u001b[38;5;28mself\u001b[39m\u001b[38;5;241m.\u001b[39mchunked \u001b[38;5;129;01mand\u001b[39;00m \u001b[38;5;28mself\u001b[39m\u001b[38;5;241m.\u001b[39msupports_chunked_reads():\n\u001b[1;32m--> 624\u001b[0m     \u001b[38;5;28;01mfor\u001b[39;00m line \u001b[38;5;129;01min\u001b[39;00m \u001b[38;5;28mself\u001b[39m\u001b[38;5;241m.\u001b[39mread_chunked(amt, decode_content\u001b[38;5;241m=\u001b[39mdecode_content):\n\u001b[0;32m    625\u001b[0m         \u001b[38;5;28;01myield\u001b[39;00m line\n\u001b[0;32m    626\u001b[0m \u001b[38;5;28;01melse\u001b[39;00m:\n",
      "File \u001b[1;32mc:\\Users\\19775\\AppData\\Local\\Programs\\Python\\Python310\\lib\\site-packages\\urllib3\\response.py:828\u001b[0m, in \u001b[0;36mHTTPResponse.read_chunked\u001b[1;34m(self, amt, decode_content)\u001b[0m\n\u001b[0;32m    825\u001b[0m     \u001b[38;5;28;01mreturn\u001b[39;00m\n\u001b[0;32m    827\u001b[0m \u001b[38;5;28;01mwhile\u001b[39;00m \u001b[38;5;28;01mTrue\u001b[39;00m:\n\u001b[1;32m--> 828\u001b[0m     \u001b[38;5;28;43mself\u001b[39;49m\u001b[38;5;241;43m.\u001b[39;49m\u001b[43m_update_chunk_length\u001b[49m\u001b[43m(\u001b[49m\u001b[43m)\u001b[49m\n\u001b[0;32m    829\u001b[0m     \u001b[38;5;28;01mif\u001b[39;00m \u001b[38;5;28mself\u001b[39m\u001b[38;5;241m.\u001b[39mchunk_left \u001b[38;5;241m==\u001b[39m \u001b[38;5;241m0\u001b[39m:\n\u001b[0;32m    830\u001b[0m         \u001b[38;5;28;01mbreak\u001b[39;00m\n",
      "File \u001b[1;32mc:\\Users\\19775\\AppData\\Local\\Programs\\Python\\Python310\\lib\\site-packages\\urllib3\\response.py:758\u001b[0m, in \u001b[0;36mHTTPResponse._update_chunk_length\u001b[1;34m(self)\u001b[0m\n\u001b[0;32m    756\u001b[0m \u001b[38;5;28;01mif\u001b[39;00m \u001b[38;5;28mself\u001b[39m\u001b[38;5;241m.\u001b[39mchunk_left \u001b[38;5;129;01mis\u001b[39;00m \u001b[38;5;129;01mnot\u001b[39;00m \u001b[38;5;28;01mNone\u001b[39;00m:\n\u001b[0;32m    757\u001b[0m     \u001b[38;5;28;01mreturn\u001b[39;00m\n\u001b[1;32m--> 758\u001b[0m line \u001b[38;5;241m=\u001b[39m \u001b[38;5;28;43mself\u001b[39;49m\u001b[38;5;241;43m.\u001b[39;49m\u001b[43m_fp\u001b[49m\u001b[38;5;241;43m.\u001b[39;49m\u001b[43mfp\u001b[49m\u001b[38;5;241;43m.\u001b[39;49m\u001b[43mreadline\u001b[49m\u001b[43m(\u001b[49m\u001b[43m)\u001b[49m\n\u001b[0;32m    759\u001b[0m line \u001b[38;5;241m=\u001b[39m line\u001b[38;5;241m.\u001b[39msplit(\u001b[38;5;124mb\u001b[39m\u001b[38;5;124m\"\u001b[39m\u001b[38;5;124m;\u001b[39m\u001b[38;5;124m\"\u001b[39m, \u001b[38;5;241m1\u001b[39m)[\u001b[38;5;241m0\u001b[39m]\n\u001b[0;32m    760\u001b[0m \u001b[38;5;28;01mtry\u001b[39;00m:\n",
      "File \u001b[1;32mc:\\Users\\19775\\AppData\\Local\\Programs\\Python\\Python310\\lib\\socket.py:705\u001b[0m, in \u001b[0;36mSocketIO.readinto\u001b[1;34m(self, b)\u001b[0m\n\u001b[0;32m    703\u001b[0m \u001b[38;5;28;01mwhile\u001b[39;00m \u001b[38;5;28;01mTrue\u001b[39;00m:\n\u001b[0;32m    704\u001b[0m     \u001b[38;5;28;01mtry\u001b[39;00m:\n\u001b[1;32m--> 705\u001b[0m         \u001b[38;5;28;01mreturn\u001b[39;00m \u001b[38;5;28;43mself\u001b[39;49m\u001b[38;5;241;43m.\u001b[39;49m\u001b[43m_sock\u001b[49m\u001b[38;5;241;43m.\u001b[39;49m\u001b[43mrecv_into\u001b[49m\u001b[43m(\u001b[49m\u001b[43mb\u001b[49m\u001b[43m)\u001b[49m\n\u001b[0;32m    706\u001b[0m     \u001b[38;5;28;01mexcept\u001b[39;00m timeout:\n\u001b[0;32m    707\u001b[0m         \u001b[38;5;28mself\u001b[39m\u001b[38;5;241m.\u001b[39m_timeout_occurred \u001b[38;5;241m=\u001b[39m \u001b[38;5;28;01mTrue\u001b[39;00m\n",
      "File \u001b[1;32mc:\\Users\\19775\\AppData\\Local\\Programs\\Python\\Python310\\lib\\ssl.py:1274\u001b[0m, in \u001b[0;36mSSLSocket.recv_into\u001b[1;34m(self, buffer, nbytes, flags)\u001b[0m\n\u001b[0;32m   1270\u001b[0m     \u001b[38;5;28;01mif\u001b[39;00m flags \u001b[38;5;241m!=\u001b[39m \u001b[38;5;241m0\u001b[39m:\n\u001b[0;32m   1271\u001b[0m         \u001b[38;5;28;01mraise\u001b[39;00m \u001b[38;5;167;01mValueError\u001b[39;00m(\n\u001b[0;32m   1272\u001b[0m           \u001b[38;5;124m\"\u001b[39m\u001b[38;5;124mnon-zero flags not allowed in calls to recv_into() on \u001b[39m\u001b[38;5;132;01m%s\u001b[39;00m\u001b[38;5;124m\"\u001b[39m \u001b[38;5;241m%\u001b[39m\n\u001b[0;32m   1273\u001b[0m           \u001b[38;5;28mself\u001b[39m\u001b[38;5;241m.\u001b[39m\u001b[38;5;18m__class__\u001b[39m)\n\u001b[1;32m-> 1274\u001b[0m     \u001b[38;5;28;01mreturn\u001b[39;00m \u001b[38;5;28;43mself\u001b[39;49m\u001b[38;5;241;43m.\u001b[39;49m\u001b[43mread\u001b[49m\u001b[43m(\u001b[49m\u001b[43mnbytes\u001b[49m\u001b[43m,\u001b[49m\u001b[43m \u001b[49m\u001b[43mbuffer\u001b[49m\u001b[43m)\u001b[49m\n\u001b[0;32m   1275\u001b[0m \u001b[38;5;28;01melse\u001b[39;00m:\n\u001b[0;32m   1276\u001b[0m     \u001b[38;5;28;01mreturn\u001b[39;00m \u001b[38;5;28msuper\u001b[39m()\u001b[38;5;241m.\u001b[39mrecv_into(buffer, nbytes, flags)\n",
      "File \u001b[1;32mc:\\Users\\19775\\AppData\\Local\\Programs\\Python\\Python310\\lib\\ssl.py:1130\u001b[0m, in \u001b[0;36mSSLSocket.read\u001b[1;34m(self, len, buffer)\u001b[0m\n\u001b[0;32m   1128\u001b[0m \u001b[38;5;28;01mtry\u001b[39;00m:\n\u001b[0;32m   1129\u001b[0m     \u001b[38;5;28;01mif\u001b[39;00m buffer \u001b[38;5;129;01mis\u001b[39;00m \u001b[38;5;129;01mnot\u001b[39;00m \u001b[38;5;28;01mNone\u001b[39;00m:\n\u001b[1;32m-> 1130\u001b[0m         \u001b[38;5;28;01mreturn\u001b[39;00m \u001b[38;5;28;43mself\u001b[39;49m\u001b[38;5;241;43m.\u001b[39;49m\u001b[43m_sslobj\u001b[49m\u001b[38;5;241;43m.\u001b[39;49m\u001b[43mread\u001b[49m\u001b[43m(\u001b[49m\u001b[38;5;28;43mlen\u001b[39;49m\u001b[43m,\u001b[49m\u001b[43m \u001b[49m\u001b[43mbuffer\u001b[49m\u001b[43m)\u001b[49m\n\u001b[0;32m   1131\u001b[0m     \u001b[38;5;28;01melse\u001b[39;00m:\n\u001b[0;32m   1132\u001b[0m         \u001b[38;5;28;01mreturn\u001b[39;00m \u001b[38;5;28mself\u001b[39m\u001b[38;5;241m.\u001b[39m_sslobj\u001b[38;5;241m.\u001b[39mread(\u001b[38;5;28mlen\u001b[39m)\n",
      "\u001b[1;31mKeyboardInterrupt\u001b[0m: "
     ]
    }
   ],
   "source": [
    "results = []\n",
    "for season_str, team_name in seasons_teams:\n",
    "    end_year = get_year_from_season(season_str)\n",
    "    if not end_year:\n",
    "        print(f\"Unable to parse season: {season_str}\")\n",
    "        continue\n",
    "    team_abbr = team_abbr_map.get(team_name, None)\n",
    "    if not team_abbr:\n",
    "        print(f\"Team {team_name} is missing an abbreviation mapping; manual handling is required.\")\n",
    "        continue\n",
    "    players = fetch_roster(team_abbr, end_year, session)\n",
    "    if not players:\n",
    "        print(f\"No roster fetched for {team_name} {season_str}.\")\n",
    "    for p in players:\n",
    "        results.append({\n",
    "            \"Season\": season_str,\n",
    "            \"Team\": team_name,\n",
    "            \"Year\": end_year,\n",
    "            \"Player\": p\n",
    "        })"
   ]
  },
  {
   "cell_type": "markdown",
   "id": "fddc4379",
   "metadata": {},
   "source": [
    "- process the data in the storage space and generate a corresponding excel format"
   ]
  },
  {
   "cell_type": "code",
   "execution_count": null,
   "id": "0541d14c",
   "metadata": {},
   "outputs": [],
   "source": [
    "df_results = pd.DataFrame(results)\n",
    "output_file = \"nba_champions_rosters.xlsx\"\n",
    "df_results.to_excel(output_file, index=False)\n",
    "print(f\"\\nGenerated {output_file} containing the rosters for the specified season-team entries.\")\n",
    "print(\"Current working directory:\", os.getcwd())\n",
    "print(\"Sample Results Data:\")\n",
    "print(df_results.head(10))"
   ]
  }
 ],
 "metadata": {
  "jupytext": {
   "cell_metadata_filter": "-all",
   "main_language": "python",
   "notebook_metadata_filter": "-all"
  },
  "kernelspec": {
   "display_name": "Python 3",
   "language": "python",
   "name": "python3"
  },
  "language_info": {
   "codemirror_mode": {
    "name": "ipython",
    "version": 3
   },
   "file_extension": ".py",
   "mimetype": "text/x-python",
   "name": "python",
   "nbconvert_exporter": "python",
   "pygments_lexer": "ipython3",
   "version": "3.10.10"
  }
 },
 "nbformat": 4,
 "nbformat_minor": 5
}
